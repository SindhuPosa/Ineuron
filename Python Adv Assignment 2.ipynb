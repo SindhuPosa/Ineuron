{
 "cells": [
  {
   "cell_type": "markdown",
   "id": "31241081",
   "metadata": {},
   "source": [
    "### 1.What is the relationship between classes and modules?\n",
    "\n",
    "Answer:\n",
    "\n",
    "A Python class is like an outline/blueprint/mold for creating a new object. An object is anything that you wish to manipulate or change while working through the code. Every time a class object is instantiated, which is when we declare a variable, a new object is initiated from scratch\n",
    "\n",
    "Whereas in Python, Modules are simply files with the . py extension containing Python code that can be imported inside another Python Program. In simple terms, we can consider a module to be the same as a code library or a file that contains a set of functions/Classes that you want to include in your application."
   ]
  },
  {
   "cell_type": "markdown",
   "id": "e85a5c2a",
   "metadata": {},
   "source": [
    "### 2. How do you make instances and classes?\n",
    "\n",
    "Answer:\n",
    "\n",
    "For creating a class instance. we call a class by its name and pass the arguments which its __init__ method accepts.\n",
    "\n",
    "Whereas for creating a class, we use the Class keyword. Class keyword is followed by classname and semicolon."
   ]
  },
  {
   "cell_type": "markdown",
   "id": "ae3399f7",
   "metadata": {},
   "source": [
    "### 3.Where and how should be class attributes created?\n",
    "\n",
    "Answer:\n",
    "\n",
    "Class attributes or Class level Attributes belong to the class itself. these attributes will be shared by all the instances of the class. Hence these attributes are usually created/defined in the top of class definition outside all methods."
   ]
  },
  {
   "cell_type": "markdown",
   "id": "9bf0de05",
   "metadata": {},
   "source": [
    "### 4.Where and how are instance attributes created?\n",
    "\n",
    "Answer:\n",
    "\n",
    "Instances attributes are passed to the class when an object of the class is created. Unlike class attributes, instance attributes are not shared by all objects of the classs. instead each object maintains its own copy of instance attributes at object level. whereas incase of class attributes all instances of class refer to a single copy. Usually instance attributes are defined within the __init__ method of class"
   ]
  },
  {
   "cell_type": "markdown",
   "id": "88ffabd8",
   "metadata": {},
   "source": [
    "### 5.What does the term \"self\" in a Python class mean?\n",
    "\n",
    "Answer:\n",
    "\n",
    "self represents the instance of the class (it represents the object itself). By using the “self” keyword we can access the attributes and methods of the class with in the class in python. It binds the attributes with the given arguments."
   ]
  },
  {
   "cell_type": "markdown",
   "id": "96afaafb",
   "metadata": {},
   "source": [
    "### 6.How does a Python class handle operator overloading?\n",
    "\n",
    "Answer:\n",
    "\n",
    "Python Classes handle operator overloading by using special methods called Magic methods. these special methods usually begin and end with __ (double underscore)"
   ]
  },
  {
   "cell_type": "markdown",
   "id": "c55e52a6",
   "metadata": {},
   "source": [
    "### 7.When do you consider allowing operator overloading of your classes?\n",
    "\n",
    "Answer:\n",
    "\n",
    "When we want to have different meaning for the same operator according to the context we use operator overloading.\n",
    "Consider that we have two objects which are a physical representation of a class (user-defined data type) and we have to add two objects with binary '+' operator it throws an error, because compiler don't know how to add two objects. So we define a method for an operator and that process is called operator overloading."
   ]
  },
  {
   "cell_type": "markdown",
   "id": "131aa3cd",
   "metadata": {},
   "source": [
    "### 8.What is the most popular form of operator overloading?\n",
    "\n",
    "Answer:\n",
    "\n",
    "The most popular form of operator overloading in python is by special methods called Magic methods. Which usually beign and end with double underscore ____."
   ]
  },
  {
   "cell_type": "markdown",
   "id": "e6509a92",
   "metadata": {},
   "source": [
    "### 9.What are the two most important concepts to grasp in order to comprehend Python OOP code?\n",
    "\n",
    "Answer:\n",
    "\n",
    "Classes and objects are the two concepts to comprehend python OOP code as more formally objects are entities that represent instances of general abstract concept called class.\n",
    "\n",
    "Along with classes and objects the important concepts to grasp are:\n",
    "\n",
    "Inheritence\n",
    "Abstraction\n",
    "Polymorphism\n",
    "Encapsulation"
   ]
  }
 ],
 "metadata": {
  "kernelspec": {
   "display_name": "Python 3 (ipykernel)",
   "language": "python",
   "name": "python3"
  },
  "language_info": {
   "codemirror_mode": {
    "name": "ipython",
    "version": 3
   },
   "file_extension": ".py",
   "mimetype": "text/x-python",
   "name": "python",
   "nbconvert_exporter": "python",
   "pygments_lexer": "ipython3",
   "version": "3.9.12"
  }
 },
 "nbformat": 4,
 "nbformat_minor": 5
}
