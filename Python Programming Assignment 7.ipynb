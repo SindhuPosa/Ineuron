{
 "cells": [
  {
   "cell_type": "code",
   "execution_count": 2,
   "id": "64c92984",
   "metadata": {},
   "outputs": [
    {
     "name": "stdout",
     "output_type": "stream",
     "text": [
      "\n",
      "Enter the numbers: 1 2 3 4 5 6 7 \n",
      "Sum of elements in array is 28\n"
     ]
    }
   ],
   "source": [
    "# 1. Write a Python Program to find sum of array?\n",
    "\n",
    "array=list(map(int,input(\"\\nEnter the numbers: \").strip().split()))\n",
    "sum=0\n",
    "for i in array:\n",
    "    sum+=i\n",
    "print(f\"Sum of elements in array is {sum}\")\n",
    "    "
   ]
  },
  {
   "cell_type": "code",
   "execution_count": 9,
   "id": "1a80b40b",
   "metadata": {},
   "outputs": [
    {
     "name": "stdout",
     "output_type": "stream",
     "text": [
      "\n",
      "Enter the elements into array: 6 4 3 2 8 9 10\n",
      "Largest element in an array is 10\n"
     ]
    }
   ],
   "source": [
    "# 2. Write a Python Program to find largest element in an array?\n",
    "\n",
    "array1=list(map(int,input(\"\\nEnter the elements into array: \").strip().split()))\n",
    "large=array1[0]\n",
    "for i in range(0,len(array1)):\n",
    "    if array1[i]>large:\n",
    "        large=array1[i]\n",
    "print(f\"Largest element in an array is {large}\")\n"
   ]
  },
  {
   "cell_type": "code",
   "execution_count": 15,
   "id": "c2e0c458",
   "metadata": {},
   "outputs": [
    {
     "name": "stdout",
     "output_type": "stream",
     "text": [
      "\n",
      "Enter the elements into array: 1 2 3 4 5 6 7 8\n",
      "Enter the number of times the array should rotate 3\n",
      "Array after rotation [4, 5, 6, 7, 8, 1, 2, 3]\n"
     ]
    }
   ],
   "source": [
    "# 3. Write a Python Program for array rotation?\n",
    "\n",
    "# First Method\n",
    "array2=list(map(int,input(\"\\nEnter the elements into array: \").strip().split()))\n",
    "d=int(input(\"Enter the number of times the array should rotate \"))\n",
    "temp=[]\n",
    "n=len(array2)\n",
    "for i in range(d,n):\n",
    "    temp.append(array2[i])\n",
    "i=0\n",
    "for i in range(0,d):\n",
    "    temp.append(array2[i])\n",
    "array2=temp.copy()\n",
    "print(f\"Array after rotation {array2}\")"
   ]
  },
  {
   "cell_type": "code",
   "execution_count": 17,
   "id": "f85b4b80",
   "metadata": {},
   "outputs": [
    {
     "name": "stdout",
     "output_type": "stream",
     "text": [
      "\n",
      "Enter the elements into array: 1 2 3 4 5 6 7 8\n",
      "Enter the number of times the array should rotate 3\n",
      "Array after rotation [4, 5, 6, 7, 8, 1, 2, 3]\n"
     ]
    }
   ],
   "source": [
    "# Second Method\n",
    "\n",
    "array3=list(map(int,input(\"\\nEnter the elements into array: \").strip().split()))\n",
    "d=int(input(\"Enter the number of times the array should rotate \"))\n",
    "temp=[]\n",
    "temp=array3[d:n]+array3[0:d]\n",
    "print(f\"Array after rotation {temp}\")"
   ]
  },
  {
   "cell_type": "code",
   "execution_count": 21,
   "id": "afaff844",
   "metadata": {},
   "outputs": [
    {
     "name": "stdout",
     "output_type": "stream",
     "text": [
      "\n",
      "Enter the elements into array: 15 40 15 16 50 36\n",
      "Enter the position where the array should be split: 2\n",
      "Resultant Array is [15, 16, 50, 36, 15, 40]\n"
     ]
    }
   ],
   "source": [
    "# 4.Write a Python Program to Split the array and add the first part to the end?\n",
    "\n",
    "array4=list(map(int,input(\"\\nEnter the elements into array: \").strip().split()))\n",
    "p=int(input(\"Enter the position where the array should be split: \"))\n",
    "n1=len(array4)\n",
    "temp1=[]\n",
    "for i in range(p,n1):\n",
    "    temp1.append(array4[i])\n",
    "for j in range(0,p):\n",
    "    temp1.append(array4[j])\n",
    "print(f\"Resultant Array is {temp1}\")\n",
    "    "
   ]
  },
  {
   "cell_type": "code",
   "execution_count": 40,
   "id": "eb7f525d",
   "metadata": {},
   "outputs": [
    {
     "name": "stdout",
     "output_type": "stream",
     "text": [
      "\n",
      "Enter the elements into array: 1 2 3 4 5\n",
      "Given array is Monotonic\n"
     ]
    }
   ],
   "source": [
    "# 5. Write a Python Program to check if given array is Monotonic?\n",
    "\n",
    "array5=list(map(int,input(\"\\nEnter the elements into array: \").strip().split()))\n",
    "n2=len(array5)\n",
    "if all(array5[i]<=array5[i+1] for i in range(0,n2-1)) or all(array5[i]>=array5[i+1] for i in range(0,n2-1)):\n",
    "    print(\"Given array is Monotonic\")\n",
    "else:\n",
    "    print(\"Given array is Not Monotonic\")\n",
    "      "
   ]
  }
 ],
 "metadata": {
  "kernelspec": {
   "display_name": "Python 3 (ipykernel)",
   "language": "python",
   "name": "python3"
  },
  "language_info": {
   "codemirror_mode": {
    "name": "ipython",
    "version": 3
   },
   "file_extension": ".py",
   "mimetype": "text/x-python",
   "name": "python",
   "nbconvert_exporter": "python",
   "pygments_lexer": "ipython3",
   "version": "3.9.12"
  }
 },
 "nbformat": 4,
 "nbformat_minor": 5
}
