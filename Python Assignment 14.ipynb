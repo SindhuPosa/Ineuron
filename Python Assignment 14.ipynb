{
 "cells": [
  {
   "cell_type": "markdown",
   "id": "592a22d9",
   "metadata": {},
   "source": [
    "### 1. What does RGBA stand for?\n",
    "\n",
    "Answer:\n",
    "\n",
    "RGBA is a four-channel format containing data for Red, Green, Blue, and an Alpha value. Where Alpha Represents the Opacity."
   ]
  },
  {
   "cell_type": "markdown",
   "id": "cc35e922",
   "metadata": {},
   "source": [
    "### 2. From the Pillow module, how do you get the RGBA value of any images?\n",
    "\n",
    "Answer:\n",
    "\n",
    "ImageColor.getcolor() gives rgba value of any image."
   ]
  },
  {
   "cell_type": "markdown",
   "id": "c3650b45",
   "metadata": {},
   "source": [
    "### 3. What is a box tuple, and how does it work?\n",
    "\n",
    "Answer:\n",
    "\n",
    "A box tuple is a tuple value of four integers: the left-edge x-coordinate, the top-edge y-coordinate,the width, and the height, respectively."
   ]
  },
  {
   "cell_type": "markdown",
   "id": "9a0aeb18",
   "metadata": {},
   "source": [
    "### 4. Use your image and load in notebook then, How can you find out the width and height of an Image object?"
   ]
  },
  {
   "cell_type": "code",
   "execution_count": 4,
   "id": "6b089ada",
   "metadata": {},
   "outputs": [
    {
     "name": "stdout",
     "output_type": "stream",
     "text": [
      "Width, Height is (564, 317)\n",
      "Width, Height is 564,317\n",
      "Width, Height is 564,317\n"
     ]
    }
   ],
   "source": [
    "# Answer\n",
    "\n",
    "# Sample program with 3 possible methods\n",
    "\n",
    "from PIL import Image\n",
    "pic = Image.open('shiva.jpg')\n",
    "print(f'Width, Height is {pic.size}') # method 1\n",
    "print(f'Width, Height is {pic.width},{pic.height}') # method 2\n",
    "width,height = pic.size\n",
    "print(f'Width, Height is {width},{height}') # method 3"
   ]
  },
  {
   "cell_type": "markdown",
   "id": "61532a8a",
   "metadata": {},
   "source": [
    "### 5. What method would you call to get Image object for a 100×100 image, excluding the lower-left quarter of it?"
   ]
  },
  {
   "cell_type": "code",
   "execution_count": 6,
   "id": "ffb16b0d",
   "metadata": {},
   "outputs": [],
   "source": [
    "#Answer:\n",
    "\n",
    "from PIL import Image\n",
    "img = Image.open('shiva.jpg')\n",
    "new_img = img.crop((0,50,50,50))"
   ]
  },
  {
   "cell_type": "markdown",
   "id": "378170dd",
   "metadata": {},
   "source": [
    "### 6. After making changes to an Image object, how could you save it as an image file?"
   ]
  },
  {
   "cell_type": "code",
   "execution_count": 7,
   "id": "474c5fce",
   "metadata": {},
   "outputs": [],
   "source": [
    "from PIL import Image\n",
    "pic = Image.open('shiva.jpg')\n",
    "pic.save('shiva1.jpg')"
   ]
  },
  {
   "cell_type": "markdown",
   "id": "1556f684",
   "metadata": {},
   "source": [
    "### 7. What module contains Pillow’s shape-drawing code?\n",
    "\n",
    "Answer:\n",
    "\n",
    "Pillows ImageDraw module contains Shape drawing methods"
   ]
  },
  {
   "cell_type": "markdown",
   "id": "613c1127",
   "metadata": {},
   "source": [
    "### 8. Image objects do not have drawing methods. What kind of object does? How do you get this kind of object?\n",
    "\n",
    "Answer:\n",
    "\n",
    "ImageDraw objects have shape-drawing methods such as point(), line(), or rectangle().They are returned by passing the Image object to the ImageDraw.Draw() function."
   ]
  }
 ],
 "metadata": {
  "kernelspec": {
   "display_name": "Python 3 (ipykernel)",
   "language": "python",
   "name": "python3"
  },
  "language_info": {
   "codemirror_mode": {
    "name": "ipython",
    "version": 3
   },
   "file_extension": ".py",
   "mimetype": "text/x-python",
   "name": "python",
   "nbconvert_exporter": "python",
   "pygments_lexer": "ipython3",
   "version": "3.9.12"
  }
 },
 "nbformat": 4,
 "nbformat_minor": 5
}
