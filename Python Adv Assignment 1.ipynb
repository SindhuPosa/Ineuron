{
 "cells": [
  {
   "cell_type": "markdown",
   "id": "a7b355e1",
   "metadata": {},
   "source": [
    "### Q1. What is the purpose of Python's OOP?\n",
    "\n",
    "Answer:\n",
    "\n",
    "In Python, object-oriented Programming (OOPs) is a programming paradigm that uses objects and classes in programming. It aims to implement real-world entities like inheritance, polymorphisms, encapsulation, etc. in the programming."
   ]
  },
  {
   "cell_type": "markdown",
   "id": "c6f1ae43",
   "metadata": {},
   "source": [
    "### Q2. Where does an inheritance search look for an attribute?\n",
    "\n",
    "Answer:\n",
    "    \n",
    "An inheritance search looks for an attribute first in the instance object, then in the class the instance was created from, then in all higher superclasses, progressing from left to right (by default)."
   ]
  },
  {
   "cell_type": "markdown",
   "id": "e8cce031",
   "metadata": {},
   "source": [
    "### Q3. How do you distinguish between a class object and an instance object?\n",
    "\n",
    "Answer:\n",
    "\n",
    "Classes are a kind of factory for creating multiple instances. Classes also support operator overloading methods, which instances inherit, and treat any functions nested in the class as methods for processing instances."
   ]
  },
  {
   "cell_type": "markdown",
   "id": "b76d9244",
   "metadata": {},
   "source": [
    "### Q4. What makes the first argument in a class’s method function special?\n",
    "\n",
    "Answer:\n",
    "\n",
    "It always receives the instance object that is the implied subject of the method call. It’s usually called 'self' by convention.\n"
   ]
  },
  {
   "cell_type": "markdown",
   "id": "2e71b13c",
   "metadata": {},
   "source": [
    "### Q5. What is the purpose of the __init__ method?\n",
    "\n",
    "Answer:\n",
    "\n",
    "It is called as a constructor. This method is called when an object is created from a class and it allows the class to initialize the attributes of the class."
   ]
  },
  {
   "cell_type": "markdown",
   "id": "d8d7563d",
   "metadata": {},
   "source": [
    "### Q6. What is the process for creating a class instance?\n",
    "\n",
    "Answer:\n",
    "\n",
    "To create instances of a class, you call the class using class name and pass in whatever arguments its __init__ method accepts."
   ]
  },
  {
   "cell_type": "markdown",
   "id": "38993fcb",
   "metadata": {},
   "source": [
    "### Q7. What is the process for creating a class?\n",
    "\n",
    "Answer:\n",
    "\n",
    "To create a class, use the keyword class:\n",
    "\n",
    "class ClassName():"
   ]
  },
  {
   "cell_type": "markdown",
   "id": "c223cd1b",
   "metadata": {},
   "source": [
    "### Q8. How would you define the superclasses of a class?\n",
    "\n",
    "Answer:\n",
    "\n",
    ".A superclass is the class from which many subclasses can be created. The subclasses inherit the characteristics of a superclass. The superclass is also known as the parent class or base class."
   ]
  }
 ],
 "metadata": {
  "kernelspec": {
   "display_name": "Python 3 (ipykernel)",
   "language": "python",
   "name": "python3"
  },
  "language_info": {
   "codemirror_mode": {
    "name": "ipython",
    "version": 3
   },
   "file_extension": ".py",
   "mimetype": "text/x-python",
   "name": "python",
   "nbconvert_exporter": "python",
   "pygments_lexer": "ipython3",
   "version": "3.9.12"
  }
 },
 "nbformat": 4,
 "nbformat_minor": 5
}
