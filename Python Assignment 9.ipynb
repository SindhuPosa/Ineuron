{
 "cells": [
  {
   "cell_type": "markdown",
   "id": "dec7a01d",
   "metadata": {},
   "source": [
    "### 1. To what does a relative path refer?\n",
    "\n",
    "Answer:\n",
    "\n",
    "Relative paths refer to the current working directory."
   ]
  },
  {
   "cell_type": "markdown",
   "id": "b309b726",
   "metadata": {},
   "source": [
    "### 2. What does an absolute path start with your operating system?\n",
    "\n",
    "Answer:\n",
    "\n",
    "Absolute paths start with the root folder, such as / or C:\\."
   ]
  },
  {
   "cell_type": "markdown",
   "id": "70fcc35b",
   "metadata": {},
   "source": [
    "### 3. What do the functions os.getcwd() and os.chdir() do?\n",
    "\n",
    "Answer:\n",
    "\n",
    "The os.getcwd() function returns the current working directory. The os.chdir() function changes the current working directory."
   ]
  },
  {
   "cell_type": "markdown",
   "id": "8c88ee43",
   "metadata": {},
   "source": [
    "### 4. What are the . and .. folders?\n",
    "\n",
    "Answer:\n",
    "\n",
    "The . folder is the current folder, and .. is the parent folder."
   ]
  },
  {
   "cell_type": "markdown",
   "id": "7223b5ec",
   "metadata": {},
   "source": [
    "### 5. In C:\\bacon\\eggs\\spam.txt, which part is the dir name, and which part is the base name?\n",
    "\n",
    "Answer:\n",
    "    \n",
    "C:\\bacon\\eggs is the dir name, while spam.txt is the base name."
   ]
  },
  {
   "cell_type": "markdown",
   "id": "13a71c2e",
   "metadata": {},
   "source": [
    "### 6. What are the three “mode” arguments that can be passed to the open() function?\n",
    "\n",
    "Answer:\n",
    "\n",
    "The string 'r' for read mode, 'w' for write mode, and 'a' for append mode"
   ]
  },
  {
   "cell_type": "markdown",
   "id": "2cb6195c",
   "metadata": {},
   "source": [
    "### 7. What happens if an existing file is opened in write mode?\n",
    "\n",
    "Answer:\n",
    "\n",
    "An existing file opened in write mode is erased and completely overwritten."
   ]
  },
  {
   "cell_type": "markdown",
   "id": "6d112d5b",
   "metadata": {},
   "source": [
    "### 8. How do you tell the difference between read() and readlines()?\n",
    "\n",
    "Answer:\n",
    "    \n",
    "The read() method returns the file’s entire contents as a single string value.\n",
    "\n",
    "The readlines() method returns a list of strings, where each string is a line from the file’s contents.\n"
   ]
  },
  {
   "cell_type": "markdown",
   "id": "3042916b",
   "metadata": {},
   "source": [
    "### 9. What data structure does a shelf value resemble?\n",
    "\n",
    "Answer:\n",
    "\n",
    "A shelf value resembles a dictionary value that is it has keys and values and along with keys() and values() methods that work similarly to the dictionary methods of the same names."
   ]
  }
 ],
 "metadata": {
  "kernelspec": {
   "display_name": "Python 3 (ipykernel)",
   "language": "python",
   "name": "python3"
  },
  "language_info": {
   "codemirror_mode": {
    "name": "ipython",
    "version": 3
   },
   "file_extension": ".py",
   "mimetype": "text/x-python",
   "name": "python",
   "nbconvert_exporter": "python",
   "pygments_lexer": "ipython3",
   "version": "3.9.12"
  }
 },
 "nbformat": 4,
 "nbformat_minor": 5
}
