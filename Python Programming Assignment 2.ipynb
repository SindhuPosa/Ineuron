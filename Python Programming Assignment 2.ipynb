{
 "cells": [
  {
   "cell_type": "code",
   "execution_count": 8,
   "id": "442076c1",
   "metadata": {},
   "outputs": [
    {
     "name": "stdout",
     "output_type": "stream",
     "text": [
      "Enter the value in Kilometers: 3.3\n",
      "Number of Kilometers in Miles is 2.050521\n"
     ]
    }
   ],
   "source": [
    "# 1.Write a Python program to convert kilometers to miles?\n",
    "\n",
    "km = float(input(\"Enter the value in Kilometers: \"))\n",
    "Miles = km * 0.62137\n",
    "print(f\"Number of Kilometers in Miles is {Miles}\")"
   ]
  },
  {
   "cell_type": "code",
   "execution_count": 7,
   "id": "1f8b1e67",
   "metadata": {},
   "outputs": [
    {
     "name": "stdout",
     "output_type": "stream",
     "text": [
      "Enter the temperature in Celsius 30\n",
      "Temperature in Fahrenheit is 86.0\n"
     ]
    }
   ],
   "source": [
    "# 2.Write a Python program to convert Celsius to Fahrenheit?\n",
    "\n",
    "cel=float(input(\"Enter the temperature in Celsius \"))\n",
    "fahr=(cel*1.8)+32\n",
    "print(f\"Temperature in Fahrenheit is {fahr}\")"
   ]
  },
  {
   "cell_type": "code",
   "execution_count": 12,
   "id": "5e55735e",
   "metadata": {},
   "outputs": [
    {
     "name": "stdout",
     "output_type": "stream",
     "text": [
      "Enter year 2022\n",
      "                                  2022\n",
      "\n",
      "      January                   February                   March\n",
      "Mo Tu We Th Fr Sa Su      Mo Tu We Th Fr Sa Su      Mo Tu We Th Fr Sa Su\n",
      "                1  2          1  2  3  4  5  6          1  2  3  4  5  6\n",
      " 3  4  5  6  7  8  9       7  8  9 10 11 12 13       7  8  9 10 11 12 13\n",
      "10 11 12 13 14 15 16      14 15 16 17 18 19 20      14 15 16 17 18 19 20\n",
      "17 18 19 20 21 22 23      21 22 23 24 25 26 27      21 22 23 24 25 26 27\n",
      "24 25 26 27 28 29 30      28                        28 29 30 31\n",
      "31\n",
      "\n",
      "       April                      May                       June\n",
      "Mo Tu We Th Fr Sa Su      Mo Tu We Th Fr Sa Su      Mo Tu We Th Fr Sa Su\n",
      "             1  2  3                         1             1  2  3  4  5\n",
      " 4  5  6  7  8  9 10       2  3  4  5  6  7  8       6  7  8  9 10 11 12\n",
      "11 12 13 14 15 16 17       9 10 11 12 13 14 15      13 14 15 16 17 18 19\n",
      "18 19 20 21 22 23 24      16 17 18 19 20 21 22      20 21 22 23 24 25 26\n",
      "25 26 27 28 29 30         23 24 25 26 27 28 29      27 28 29 30\n",
      "                          30 31\n",
      "\n",
      "        July                     August                  September\n",
      "Mo Tu We Th Fr Sa Su      Mo Tu We Th Fr Sa Su      Mo Tu We Th Fr Sa Su\n",
      "             1  2  3       1  2  3  4  5  6  7                1  2  3  4\n",
      " 4  5  6  7  8  9 10       8  9 10 11 12 13 14       5  6  7  8  9 10 11\n",
      "11 12 13 14 15 16 17      15 16 17 18 19 20 21      12 13 14 15 16 17 18\n",
      "18 19 20 21 22 23 24      22 23 24 25 26 27 28      19 20 21 22 23 24 25\n",
      "25 26 27 28 29 30 31      29 30 31                  26 27 28 29 30\n",
      "\n",
      "      October                   November                  December\n",
      "Mo Tu We Th Fr Sa Su      Mo Tu We Th Fr Sa Su      Mo Tu We Th Fr Sa Su\n",
      "                1  2          1  2  3  4  5  6                1  2  3  4\n",
      " 3  4  5  6  7  8  9       7  8  9 10 11 12 13       5  6  7  8  9 10 11\n",
      "10 11 12 13 14 15 16      14 15 16 17 18 19 20      12 13 14 15 16 17 18\n",
      "17 18 19 20 21 22 23      21 22 23 24 25 26 27      19 20 21 22 23 24 25\n",
      "24 25 26 27 28 29 30      28 29 30                  26 27 28 29 30 31\n",
      "31\n",
      "\n"
     ]
    }
   ],
   "source": [
    "# 3.Write a Python program to display calendar?\n",
    "\n",
    "import calendar\n",
    "y=int(input(\"Enter year \"))\n",
    "print(calendar.calendar(y))"
   ]
  },
  {
   "cell_type": "code",
   "execution_count": 17,
   "id": "b394f5e3",
   "metadata": {},
   "outputs": [
    {
     "name": "stdout",
     "output_type": "stream",
     "text": [
      "Enter a 1\n",
      "Enter b 5\n",
      "Enter c 6\n",
      "The solution of the quadratic equation is (-2+0j) and (-3+0j)\n"
     ]
    }
   ],
   "source": [
    "# 4.Write a Python program to solve quadratic equation?\n",
    "\n",
    "import cmath\n",
    "a=int(input(\"Enter a \"))\n",
    "b=int(input(\"Enter b \"))\n",
    "c=int(input(\"Enter c \"))\n",
    "d=(b**2)-(4*a*c)\n",
    "sol1=(-b+cmath.sqrt(d))/(2*a)\n",
    "sol2=(-b-cmath.sqrt(d))/(2*a)\n",
    "print(f\"The solution of the quadratic equation is {sol1} and {sol2}\")\n"
   ]
  },
  {
   "cell_type": "code",
   "execution_count": 21,
   "id": "56df1115",
   "metadata": {},
   "outputs": [
    {
     "name": "stdout",
     "output_type": "stream",
     "text": [
      "Enter a 3\n",
      "Enter b 4\n",
      "Value of a is 4\n",
      "Value of b is 3\n"
     ]
    }
   ],
   "source": [
    "# 5.Write a Python program to swap two variables without temp variable?\n",
    "\n",
    "a=int(input(\"Enter a \")) \n",
    "b=int(input(\"Enter b \")) \n",
    "a=a+b \n",
    "b=a-b \n",
    "a=a-b \n",
    "print(f\"Value of a is {a}\")\n",
    "print(f\"Value of b is {b}\")"
   ]
  },
  {
   "cell_type": "code",
   "execution_count": null,
   "id": "7ac42e1c",
   "metadata": {},
   "outputs": [],
   "source": []
  },
  {
   "cell_type": "code",
   "execution_count": null,
   "id": "4a31ec41",
   "metadata": {},
   "outputs": [],
   "source": []
  }
 ],
 "metadata": {
  "kernelspec": {
   "display_name": "Python 3 (ipykernel)",
   "language": "python",
   "name": "python3"
  },
  "language_info": {
   "codemirror_mode": {
    "name": "ipython",
    "version": 3
   },
   "file_extension": ".py",
   "mimetype": "text/x-python",
   "name": "python",
   "nbconvert_exporter": "python",
   "pygments_lexer": "ipython3",
   "version": "3.9.12"
  }
 },
 "nbformat": 4,
 "nbformat_minor": 5
}
