{
 "cells": [
  {
   "cell_type": "code",
   "execution_count": 1,
   "id": "d4a92b55",
   "metadata": {},
   "outputs": [
    {
     "name": "stdout",
     "output_type": "stream",
     "text": [
      "Hello Python\n"
     ]
    }
   ],
   "source": [
    "# 1.Write a Python program to print \"Hello Python\"?\n",
    "\n",
    "print(\"Hello Python\")"
   ]
  },
  {
   "cell_type": "code",
   "execution_count": 2,
   "id": "0bd76b38",
   "metadata": {},
   "outputs": [
    {
     "name": "stdout",
     "output_type": "stream",
     "text": [
      "Enter first number: 2\n",
      "Enter second number: 3\n",
      "Sum of two numbers is 5.0\n",
      "Division of two numbers is 0.6666666666666666\n"
     ]
    }
   ],
   "source": [
    "# 2.Write a Python program to do arithmetical operations addition and division.?\n",
    "\n",
    "num1 = float(input('Enter first number: ')) \n",
    "num2 = float(input('Enter second number: ')) \n",
    "addition = num1+num2  \n",
    "division = num1 /num2 \n",
    "print(f\"Sum of two numbers is {addition}\")\n",
    "print(f\"Division of two numbers is {division}\")"
   ]
  },
  {
   "cell_type": "code",
   "execution_count": 3,
   "id": "264c163c",
   "metadata": {},
   "outputs": [
    {
     "name": "stdout",
     "output_type": "stream",
     "text": [
      "Enter first side: 3\n",
      "Enter second side: 2\n",
      "Enter third side: 3\n",
      "The area of the triangle is 2.83\n"
     ]
    }
   ],
   "source": [
    "# 3.Write a Python program to find the area of a triangle?\n",
    "\n",
    "a = float(input('Enter first side: '))  \n",
    "b = float(input('Enter second side: '))  \n",
    "c = float(input('Enter third side: '))  \n",
    "  \n",
    "# calculate the semi-perimeter  \n",
    "s = (a + b + c) / 2  \n",
    "  \n",
    "# calculate the area  \n",
    "area = (s*(s-a)*(s-b)*(s-c)) ** 0.5  \n",
    "print('The area of the triangle is %0.2f' %area)   "
   ]
  },
  {
   "cell_type": "code",
   "execution_count": 7,
   "id": "bcf304c7",
   "metadata": {},
   "outputs": [
    {
     "name": "stdout",
     "output_type": "stream",
     "text": [
      "Enter value of a 2\n",
      "Enter value of b 3\n",
      "Now Value of a is 3\n",
      "Now Value of b is 2\n"
     ]
    }
   ],
   "source": [
    "# 4.Write a Python program to swap two variables?\n",
    "\n",
    "a=int(input(\"Enter value of a \"))\n",
    "b=int(input(\"Enter value of b \"))\n",
    "c=a\n",
    "a=b\n",
    "b=c\n",
    "print(f\"Now Value of a is {a}\")\n",
    "print(f\"Now Value of b is {b}\")"
   ]
  },
  {
   "cell_type": "code",
   "execution_count": 9,
   "id": "0e602e2a",
   "metadata": {},
   "outputs": [
    {
     "data": {
      "text/plain": [
       "48"
      ]
     },
     "execution_count": 9,
     "metadata": {},
     "output_type": "execute_result"
    }
   ],
   "source": [
    "# 5.Write a Python program to generate a random number?\n",
    "\n",
    "import random\n",
    "random.randint(0,100)\n",
    "#The randint() method generates a integer between a given range of numbers."
   ]
  },
  {
   "cell_type": "code",
   "execution_count": null,
   "id": "57dd7134",
   "metadata": {},
   "outputs": [],
   "source": []
  }
 ],
 "metadata": {
  "kernelspec": {
   "display_name": "Python 3 (ipykernel)",
   "language": "python",
   "name": "python3"
  },
  "language_info": {
   "codemirror_mode": {
    "name": "ipython",
    "version": 3
   },
   "file_extension": ".py",
   "mimetype": "text/x-python",
   "name": "python",
   "nbconvert_exporter": "python",
   "pygments_lexer": "ipython3",
   "version": "3.9.12"
  }
 },
 "nbformat": 4,
 "nbformat_minor": 5
}
