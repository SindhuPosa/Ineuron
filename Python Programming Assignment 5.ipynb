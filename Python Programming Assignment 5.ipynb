{
 "cells": [
  {
   "cell_type": "code",
   "execution_count": 7,
   "id": "5de1e1b0",
   "metadata": {},
   "outputs": [
    {
     "name": "stdout",
     "output_type": "stream",
     "text": [
      "Enter first number: 5\n",
      "Enter second number: 3\n",
      "LCM of two numbers is 15\n"
     ]
    }
   ],
   "source": [
    "# 1. Write a Python Program to Find LCM?\n",
    "\n",
    "num1=int(input(\"Enter first number: \"))\n",
    "num2=int(input(\"Enter second number: \"))\n",
    "if num1>num2:\n",
    "    maximum=num1\n",
    "else:\n",
    "    maximum=num2\n",
    "while(1):\n",
    "    if maximum%num1==0 and maximum%num2==0:\n",
    "        print(f\"LCM of two numbers is {maximum}\")\n",
    "        break\n",
    "    maximum+=1"
   ]
  },
  {
   "cell_type": "code",
   "execution_count": 11,
   "id": "ea5894ab",
   "metadata": {},
   "outputs": [
    {
     "name": "stdout",
     "output_type": "stream",
     "text": [
      "Enter first number: 54\n",
      "Enter second number: 24\n",
      "HCF of two numbers is 6\n"
     ]
    }
   ],
   "source": [
    "# 2. Write a Python Program to Find HCF?\n",
    "\n",
    "num1=int(input(\"Enter first number: \"))\n",
    "num2=int(input(\"Enter second number: \"))\n",
    "if num1<num2:\n",
    "    minimum=num1\n",
    "else:\n",
    "    minimum=num2\n",
    "for i in range(1,minimum+1):\n",
    "    if num1%i==0 and num2%i==0:\n",
    "        hcf=i\n",
    "print(f\"HCF of two numbers is {hcf}\")\n"
   ]
  },
  {
   "cell_type": "code",
   "execution_count": 1,
   "id": "9cca3062",
   "metadata": {},
   "outputs": [
    {
     "name": "stdout",
     "output_type": "stream",
     "text": [
      "Enter the number: 344\n",
      "Number in Binary: 0b101011000\n",
      "Number in Octal: 0o530\n",
      "Number in HexaDecimal: 0x158\n"
     ]
    }
   ],
   "source": [
    "# 3. Write a Python Program to Convert Decimal to Binary, Octal and Hexadecimal?\n",
    "\n",
    "num=int(input(\"Enter the number: \"))\n",
    "print(f\"Number in Binary: {bin(num)}\")\n",
    "print(f\"Number in Octal: {oct(num)}\")\n",
    "print(f\"Number in HexaDecimal: {hex(num)}\")"
   ]
  },
  {
   "cell_type": "code",
   "execution_count": 2,
   "id": "89974baa",
   "metadata": {},
   "outputs": [
    {
     "name": "stdout",
     "output_type": "stream",
     "text": [
      "Enter a character: p\n",
      "ASCII value of a character is 112\n"
     ]
    }
   ],
   "source": [
    "# 4. Write a Python Program To Find ASCII value of a character?\n",
    "#ASCII stands for American Standard Code for Information Interchange.\n",
    "#It is a numeric value given to different characters and symbols, for computers to store and manipulate.\n",
    "\n",
    "ch=input(\"Enter a character: \")\n",
    "print(f\"ASCII value of a character is {ord(ch)}\")"
   ]
  },
  {
   "cell_type": "code",
   "execution_count": 5,
   "id": "c04e8fc7",
   "metadata": {},
   "outputs": [
    {
     "name": "stdout",
     "output_type": "stream",
     "text": [
      "Select Operation: \n",
      "1.Add\n",
      "2.Subtract\n",
      "3.Multiply\n",
      "4.Divide\n",
      "Enter choice (1/2/3/4) 1\n",
      "Enter first number: 3\n",
      "Enter second number: 2\n",
      "Addition of two numbers is 5.0\n",
      "Do you want next calculation? (yes/no): yes\n",
      "Enter choice (1/2/3/4) 2\n",
      "Enter first number: 8\n",
      "Enter second number: 7\n",
      "Subtraction of two numbers is 1.0\n",
      "Do you want next calculation? (yes/no): yes\n",
      "Enter choice (1/2/3/4) 3\n",
      "Enter first number: 5\n",
      "Enter second number: 4\n",
      "Multiplication of two numbers is 20.0\n",
      "Do you want next calculation? (yes/no): yes\n",
      "Enter choice (1/2/3/4) 4\n",
      "Enter first number: 9\n",
      "Enter second number: 3\n",
      "Division of two numbers is 3.0\n",
      "Do you want next calculation? (yes/no): no\n"
     ]
    }
   ],
   "source": [
    "# 5. Write a Python Program to Make a Simple Calculator with 4 basic mathematical operations?\n",
    "\n",
    "def add(a,b):\n",
    "    return a+b\n",
    "def sub(a,b):\n",
    "    return a-b\n",
    "def mul(a,b):\n",
    "    return a*b\n",
    "def div(a,b):\n",
    "    return a/b\n",
    "print(\"Select Operation: \")\n",
    "print(\"1.Add\")\n",
    "print(\"2.Subtract\")\n",
    "print(\"3.Multiply\")\n",
    "print(\"4.Divide\")\n",
    "while(1):\n",
    "    choice=input(\"Enter choice (1/2/3/4) \")\n",
    "    if choice in ('1','2','3','4'):\n",
    "        num1=float(input(\"Enter first number: \"))\n",
    "        num2=float(input(\"Enter second number: \"))\n",
    "        if choice=='1':\n",
    "            print(f\"Addition of two numbers is {add(num1,num2)}\")\n",
    "        elif choice=='2':\n",
    "             print(f\"Subtraction of two numbers is {sub(num1,num2)}\")\n",
    "        elif choice=='3':\n",
    "            print(f\"Multiplication of two numbers is {mul(num1,num2)}\")\n",
    "        elif choice=='4':\n",
    "             print(f\"Division of two numbers is {div(num1,num2)}\")\n",
    "        cal=input(\"Do you want next calculation? (yes/no): \")\n",
    "        if cal==\"no\":\n",
    "            break\n",
    "    else:\n",
    "        print(\"Invalid Input\")"
   ]
  },
  {
   "cell_type": "code",
   "execution_count": null,
   "id": "e9f13ca5",
   "metadata": {},
   "outputs": [],
   "source": []
  }
 ],
 "metadata": {
  "kernelspec": {
   "display_name": "Python 3 (ipykernel)",
   "language": "python",
   "name": "python3"
  },
  "language_info": {
   "codemirror_mode": {
    "name": "ipython",
    "version": 3
   },
   "file_extension": ".py",
   "mimetype": "text/x-python",
   "name": "python",
   "nbconvert_exporter": "python",
   "pygments_lexer": "ipython3",
   "version": "3.9.12"
  }
 },
 "nbformat": 4,
 "nbformat_minor": 5
}
