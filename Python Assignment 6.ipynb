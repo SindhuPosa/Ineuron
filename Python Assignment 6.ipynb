{
 "cells": [
  {
   "cell_type": "markdown",
   "id": "e51a2586",
   "metadata": {},
   "source": [
    "### 1. What are escape characters, and how do you use them?\n",
    "\n",
    "Answer:\n",
    "\n",
    "Escape characters are primarily used to put nonprintable characters in character and string literals. An escape character is a backslash \\ followed by the character we want to insert."
   ]
  },
  {
   "cell_type": "markdown",
   "id": "03ff7ae4",
   "metadata": {},
   "source": [
    "### 2. What do the escape characters n and t stand for?\n",
    "\n",
    "Answer:\n",
    "\n",
    "\\n is a newline; \\t is a tab"
   ]
  },
  {
   "cell_type": "markdown",
   "id": "ef469e20",
   "metadata": {},
   "source": [
    "### 3. What is the way to include backslash characters in a string?\n",
    "\n",
    "Answer:\n",
    "\n",
    "The \\\\ escape character will represent a backslash character."
   ]
  },
  {
   "cell_type": "markdown",
   "id": "c78f2500",
   "metadata": {},
   "source": [
    "### 4. The string \"Howl's Moving Castle\" is a correct value. Why isn't the single quote character in the word Howl's not escaped a problem?\n",
    "\n",
    "Answer:\n",
    "\n",
    "Single quote in Howl's is good because they’ve used double quotes to mark the beginning and end of the string."
   ]
  },
  {
   "cell_type": "markdown",
   "id": "9fd6a4fd",
   "metadata": {},
   "source": [
    "### 5. How do you write a string of newlines if you don't want to use the n character?\n",
    "\n",
    "Answer:\n",
    "\n",
    "Multiline strings allow us to use newlines in strings without the \\n escape character."
   ]
  },
  {
   "cell_type": "markdown",
   "id": "98973c12",
   "metadata": {},
   "source": [
    "### 6. What are the values of the given expressions?\n",
    "\n",
    "'Hello, world!'[1]\n",
    "'Hello, world!'[0:5]\n",
    "'Hello, world!'[:5]\n",
    "'Hello, world!'[3:]\n",
    "\n",
    "Answer:\n",
    "    \n",
    "The expressions evaluate to the following:\n",
    "\n",
    "* 'e'\n",
    "\n",
    "* 'Hello'\n",
    "\n",
    "* 'Hello'\n",
    "\n",
    "* 'lo world!\n",
    "\n"
   ]
  },
  {
   "cell_type": "markdown",
   "id": "f838b378",
   "metadata": {},
   "source": [
    "### 7. What are the values of the following expressions?\n",
    "\n",
    "'Hello'.upper()\n",
    "'Hello'.upper().isupper()\n",
    "'Hello'.upper().lower()\n",
    "\n",
    "Answer:\n",
    "\n",
    "The expressions evaluate to the following:\n",
    "\n",
    "* 'HELLO'\n",
    "\n",
    "* True\n",
    "\n",
    "* 'hello'"
   ]
  },
  {
   "cell_type": "markdown",
   "id": "b152dd79",
   "metadata": {},
   "source": [
    "### 8. What are the values of the following expressions?\n",
    "\n",
    "'Remember, remember, the fifth of July.'.split()\n",
    "'-'.join('There can only one.'.split())\n",
    "\n",
    "Answer:\n",
    "\n",
    "* ['Remember,', 'remember,', 'the', 'fifth', 'of', 'November.']\n",
    "\n",
    "* 'There-can-be-only-one.'"
   ]
  },
  {
   "cell_type": "markdown",
   "id": "ca4ebdf5",
   "metadata": {},
   "source": [
    "### 9. What are the methods for right-justifying, left-justifying, and centering a string?\n",
    "\n",
    "Answer:\n",
    "\n",
    "The rjust() is for right-justifying, ljust() is for left justifying, and center() is for centering."
   ]
  },
  {
   "cell_type": "markdown",
   "id": "b658fae8",
   "metadata": {},
   "source": [
    "### 10. What is the best way to remove whitespace characters from the start or end?\n",
    "\n",
    "Answer:\n",
    "\n",
    "The lstrip() and rstrip() methods remove whitespace from the left and right ends of a string."
   ]
  }
 ],
 "metadata": {
  "kernelspec": {
   "display_name": "Python 3 (ipykernel)",
   "language": "python",
   "name": "python3"
  },
  "language_info": {
   "codemirror_mode": {
    "name": "ipython",
    "version": 3
   },
   "file_extension": ".py",
   "mimetype": "text/x-python",
   "name": "python",
   "nbconvert_exporter": "python",
   "pygments_lexer": "ipython3",
   "version": "3.9.12"
  }
 },
 "nbformat": 4,
 "nbformat_minor": 5
}
