{
 "cells": [
  {
   "cell_type": "markdown",
   "id": "3be2fe63",
   "metadata": {},
   "source": [
    "### 1.What are the two values of the Boolean data type? How do you write them?\n",
    "Answer: Two values of boolean data type are True and False. For example, the expression 1 <= 2 is True , while the expression 0 == 1 is False ."
   ]
  },
  {
   "cell_type": "markdown",
   "id": "98ae2442",
   "metadata": {},
   "source": [
    "### 2.What are the three different types of Boolean operators?\n",
    "Answer: and , or , and not"
   ]
  },
  {
   "cell_type": "markdown",
   "id": "a24f9c52",
   "metadata": {},
   "source": [
    "### 3. Make a list of each Boolean operator's truth tables (i.e. every possible combination of Boolean values for the operator and what it evaluate ).\n",
    "Answer:\n",
    "\n",
    "True and True is True.\n",
    "\n",
    "True and False is False.\n",
    "\n",
    "False and True is False.\n",
    "\n",
    "False and False is False.\n",
    "\n",
    "True or True is True.\n",
    "\n",
    "True or False is True.\n",
    "\n",
    "False or True is True.\n",
    "\n",
    "False or False is False.\n",
    "\n",
    "not True is False.\n",
    "\n",
    "not False is True.\n"
   ]
  },
  {
   "cell_type": "markdown",
   "id": "2f73c02e",
   "metadata": {},
   "source": [
    "### 4.What are the values of the following expressions?\n",
    "* (5 > 4) and (3 == 5)  \n",
    "    * Answer: False\n",
    "* not (5 > 4) \n",
    "    * Answer: False\n",
    "* (5 > 4) or (3 == 5)  \n",
    "    * Answer: True\n",
    "* not ((5 > 4) or (3 == 5)) \n",
    "    * Answer: False\n",
    "* (True and True) and (True == False)  \n",
    "    * Answer: False\n",
    "* (not False) or (not True)  \n",
    "    * Answer: True\n",
    "\n"
   ]
  },
  {
   "cell_type": "markdown",
   "id": "7ec94da8",
   "metadata": {},
   "source": [
    "### 5. What are the six comparison operators?\n",
    "Answer:\n",
    "\n",
    "* Less than ( < )\n",
    "* Less than or equal to ( <= )\n",
    "* Greater than ( > )\n",
    "* Greater than or equal to ( >= )\n",
    "* Equal to ( == )\n",
    "* Not equal to ( != )"
   ]
  },
  {
   "cell_type": "markdown",
   "id": "62224fc5",
   "metadata": {},
   "source": [
    "### 6. How do you tell the difference between the equal to and assignment operators?Describe a condition and when you would use one.\n",
    "Answer:\n",
    "\n",
    "* The “=” is an assignment operator is used to assign the value on the right to the variable on the left. The '==' operator checks whether the two given operands are equal or not.\n",
    "* A condition is an expression used in a flow control statement that evaluates to a Boolean value."
   ]
  },
  {
   "cell_type": "markdown",
   "id": "f5e76e26",
   "metadata": {},
   "source": [
    "### 7. Identify the three blocks in this code:\n",
    "\n",
    "    spam = 0\n",
    "    if spam == 10:\n",
    "    print('eggs')\n",
    "    if spam > 5:\n",
    "    print('bacon')\n",
    "    else:\n",
    "    print('ham')\n",
    "    print('spam')\n",
    "    print('spam')\n",
    "\n",
    "Answer:\n",
    "\n",
    "The three blocks are everything inside the if statement and the lines print('bacon') and print('ham')."
   ]
  },
  {
   "cell_type": "markdown",
   "id": "fe0ee6bf",
   "metadata": {},
   "source": [
    "### 8. Write code that prints Hello if 1 is stored in spam, prints Howdy if 2 is stored in spam, and prints Greetings! if anything else is stored in spam."
   ]
  },
  {
   "cell_type": "code",
   "execution_count": null,
   "id": "d636526d",
   "metadata": {},
   "outputs": [],
   "source": [
    "#Answer:\n",
    "\n",
    "if spam == 1:\n",
    "    print('Hello')\n",
    "elif spam == 2:\n",
    "    print('Howdy')\n",
    "else:\n",
    "    print('Greetings!')\n"
   ]
  },
  {
   "cell_type": "markdown",
   "id": "f536f630",
   "metadata": {},
   "source": [
    "### 9.If your programme is stuck in an endless loop, what keys you’ll press?\n",
    "\n",
    "Answer:\n",
    "\n",
    "Press CTRL-C to stop a program stuck in an infinite loop."
   ]
  },
  {
   "cell_type": "markdown",
   "id": "e4550978",
   "metadata": {},
   "source": [
    "### 10. How can you tell the difference between break and continue?\n",
    "\n",
    "Answer:\n",
    "\n",
    "The break statement will move the execution outside and just after a loop. The continue statement will move the execution to the start of the loop."
   ]
  },
  {
   "cell_type": "markdown",
   "id": "ff3acbee",
   "metadata": {},
   "source": [
    "### 11. In a for loop, what is the difference between range(10), range(0, 10), and range(0, 10, 1)?\n",
    "\n",
    "Answer:\n",
    "\n",
    "All of them are same.\n",
    "The range(10) call ranges from 0 up to (but not including) 10, range(0, 10) explicitly tells the loop to start at 0, and range(0, 10, 1) explicitly tells the loop to increase the variable by 1 on each iteration."
   ]
  },
  {
   "cell_type": "markdown",
   "id": "2c946a14",
   "metadata": {},
   "source": [
    "### 12. Write a short program that prints the numbers 1 to 10 using a for loop. Then write an equivalent program that prints the numbers 1 to 10 using a while loop."
   ]
  },
  {
   "cell_type": "code",
   "execution_count": null,
   "id": "080ad6a2",
   "metadata": {},
   "outputs": [],
   "source": [
    "#Answer:\n",
    "#for loop\n",
    "for i in range(1, 11):\n",
    "    print(i)\n",
    "\n",
    "#while loop\n",
    "i = 1\n",
    "while i <= 10:\n",
    "    print(i)\n",
    "    i = i + 1"
   ]
  },
  {
   "cell_type": "markdown",
   "id": "e2c37381",
   "metadata": {},
   "source": [
    "### 13. If you had a function named bacon() inside a module named spam, how would you call it after importing spam?\n",
    "\n",
    "Answer:\n",
    "\n",
    "The function can be called with spam.bacon()."
   ]
  }
 ],
 "metadata": {
  "kernelspec": {
   "display_name": "Python 3 (ipykernel)",
   "language": "python",
   "name": "python3"
  },
  "language_info": {
   "codemirror_mode": {
    "name": "ipython",
    "version": 3
   },
   "file_extension": ".py",
   "mimetype": "text/x-python",
   "name": "python",
   "nbconvert_exporter": "python",
   "pygments_lexer": "ipython3",
   "version": "3.9.12"
  }
 },
 "nbformat": 4,
 "nbformat_minor": 5
}
