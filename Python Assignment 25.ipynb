{
 "cells": [
  {
   "cell_type": "markdown",
   "id": "3731aadb",
   "metadata": {},
   "source": [
    "### 1. What is the difference between enclosing a list comprehension in square brackets and parentheses?"
   ]
  },
  {
   "cell_type": "markdown",
   "id": "f5c49a87",
   "metadata": {},
   "source": [
    "Answer: Enclosing a list comprehension in square brackets returns list. Enclosing a list in parantheses returns generator object."
   ]
  },
  {
   "cell_type": "code",
   "execution_count": 3,
   "id": "316eaa2a",
   "metadata": {},
   "outputs": [
    {
     "name": "stdout",
     "output_type": "stream",
     "text": [
      "[0, 1, 2, 3, 4, 5, 6, 7, 8, 9] <class 'list'>\n",
      "<generator object <genexpr> at 0x00000238D3E9A3C0> <class 'generator'>\n"
     ]
    }
   ],
   "source": [
    "l = [a for a in range(10)]\n",
    "print(l, type(l))\n",
    "l1 = (a for a in range(10))\n",
    "print(l1, type(l1))"
   ]
  },
  {
   "cell_type": "markdown",
   "id": "7ca6fd0d",
   "metadata": {},
   "source": [
    "### 2. What is the relationship between generators and iterators?"
   ]
  },
  {
   "cell_type": "markdown",
   "id": "a6305d94",
   "metadata": {},
   "source": [
    "Answer:\n",
    "\n",
    "Iterators are the objects that use the next() method to get the next value of the sequence. A generator is a function that produces or yields a sequence of values using a yield statement. Classes are used to Implement the iterators. Functions are used to implement the generator."
   ]
  },
  {
   "cell_type": "markdown",
   "id": "d7f5f1f3",
   "metadata": {},
   "source": [
    "### 3.What are the signs that a function is a generator function?"
   ]
  },
  {
   "cell_type": "markdown",
   "id": "57c03d2c",
   "metadata": {},
   "source": [
    "Answer:\n",
    "    \n",
    "A generator function uses a yield statement instead of a return statement. A generator function will always return a iterable object called generator. where as a normal function can return a string/list/tuple/dict/NoneType etc"
   ]
  },
  {
   "cell_type": "markdown",
   "id": "8257b231",
   "metadata": {},
   "source": [
    "### 4.  What is the purpose of a yield statement?"
   ]
  },
  {
   "cell_type": "markdown",
   "id": "07323cf9",
   "metadata": {},
   "source": [
    "Answer:\n",
    "    \n",
    "The yield statement returns a generator object to the one who calls the function which contains yield, instead of simply returning a value"
   ]
  },
  {
   "cell_type": "markdown",
   "id": "92437623",
   "metadata": {},
   "source": [
    "### 5. What is the relationship between map calls and list comprehensions? Make a comparison and contrast between the two ?"
   ]
  },
  {
   "cell_type": "markdown",
   "id": "0fe60adb",
   "metadata": {},
   "source": [
    "Answer:\n",
    "\n",
    "Differences between map calls and list comprehensions are:\n",
    "1. List comprehension returns a list, whereas the map function returns an object of Iterable.\n",
    "2. List comprehension execution is faster than that of map function when the formula expression is huge and complex.Map function is faster than list comprehension when the formula is already defined as a function earlier.\n",
    "3. List comprehension is more concise and easier to read as compared to map.\n",
    "4. List comprehension allows filtering. In map, we have no such facility. For example, to print all even numbers in range of 100, we can write [n for n in range(100) if n%2 == 0]. There is no alternate for it in map.\n",
    "    "
   ]
  }
 ],
 "metadata": {
  "kernelspec": {
   "display_name": "Python 3 (ipykernel)",
   "language": "python",
   "name": "python3"
  },
  "language_info": {
   "codemirror_mode": {
    "name": "ipython",
    "version": 3
   },
   "file_extension": ".py",
   "mimetype": "text/x-python",
   "name": "python",
   "nbconvert_exporter": "python",
   "pygments_lexer": "ipython3",
   "version": "3.9.12"
  }
 },
 "nbformat": 4,
 "nbformat_minor": 5
}
