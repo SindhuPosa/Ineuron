{
 "cells": [
  {
   "cell_type": "code",
   "execution_count": 1,
   "id": "e0a9eaeb",
   "metadata": {},
   "outputs": [
    {
     "name": "stdout",
     "output_type": "stream",
     "text": [
      "[7, 15, 4]\n",
      "[10, 12, 9]\n",
      "[11, 10, 15]\n"
     ]
    }
   ],
   "source": [
    "#1. Write a Python Program to Add Two Matrices?\n",
    "\n",
    "A = [[2,7,3],\n",
    "\n",
    "    [4 ,5,6],\n",
    "\n",
    "    [7 ,5,9]]\n",
    "\n",
    "B = [[5,8,1],\n",
    "\n",
    "    [6,7,3],\n",
    "\n",
    "    [4,5,6]]\n",
    "\n",
    "result = [[0,0,0],\n",
    "\n",
    "         [0,0,0],\n",
    "\n",
    "         [0,0,0]]\n",
    "for i in range(0,len(A)):\n",
    "    for j in range(0,len(A[0])):\n",
    "        result[i][j]=A[i][j]+B[i][j]\n",
    "for r in result:\n",
    "    print(r)"
   ]
  },
  {
   "cell_type": "code",
   "execution_count": 2,
   "id": "76189941",
   "metadata": {},
   "outputs": [
    {
     "name": "stdout",
     "output_type": "stream",
     "text": [
      "[114, 160, 60, 27]\n",
      "[74, 97, 73, 14]\n",
      "[119, 157, 112, 23]\n"
     ]
    }
   ],
   "source": [
    "# 2. Write a Python Program to Multiply Two Matrices?\n",
    "\n",
    "A = [[12,7,3],\n",
    "    [4 ,5,6],\n",
    "    [7 ,8,9]]\n",
    "B = [[5,8,1,2],\n",
    "    [6,7,3,0],\n",
    "    [4,5,9,1]]\n",
    "\n",
    "result = [[0,0,0,0],\n",
    "          [0,0,0,0],\n",
    "          [0,0,0,0]]\n",
    "for i in range(len(A)):\n",
    "    for j in range(len(B[0])):\n",
    "        for k in range(len(B)):\n",
    "            result[i][j]+=(A[i][k]*B[k][j])\n",
    "for r in result:\n",
    "    print(r)"
   ]
  },
  {
   "cell_type": "code",
   "execution_count": 3,
   "id": "07e7db91",
   "metadata": {},
   "outputs": [
    {
     "name": "stdout",
     "output_type": "stream",
     "text": [
      "[12, 4, 3]\n",
      "[7, 5, 8]\n"
     ]
    }
   ],
   "source": [
    "# 3. Write a Python Program to Transpose a Matrix?\n",
    "\n",
    "A = [[12,7],\n",
    "    [4 ,5],\n",
    "    [3 ,8]]\n",
    "\n",
    "result = [[0,0,0],\n",
    "         [0,0,0]]\n",
    "for i in range(len(A)):\n",
    "    for j in range(len(A[0])):\n",
    "        result[j][i]=A[i][j]\n",
    "for r in result:\n",
    "    print(r)"
   ]
  },
  {
   "cell_type": "code",
   "execution_count": 7,
   "id": "0217859b",
   "metadata": {},
   "outputs": [
    {
     "name": "stdout",
     "output_type": "stream",
     "text": [
      "Enter input: Hello this Is an Example With cased letters\n",
      "Words after sorting are: \n",
      "an\n",
      "cased\n",
      "example\n",
      "hello\n",
      "is\n",
      "letters\n",
      "this\n",
      "with\n"
     ]
    }
   ],
   "source": [
    "# 4. Write a Python Program to Sort Words in Alphabetic Order?\n",
    "\n",
    "a=input(\"Enter input: \")\n",
    "words=[word.lower() for word in a.split()]\n",
    "words.sort()\n",
    "print(\"Words after sorting are: \")\n",
    "for word in words:\n",
    "    print(word)"
   ]
  },
  {
   "cell_type": "code",
   "execution_count": 1,
   "id": "01b5bfac",
   "metadata": {},
   "outputs": [
    {
     "name": "stdout",
     "output_type": "stream",
     "text": [
      "Enter input: \"Hello!!!, my name's sindhu@! ---and went.\"\n",
      "Hello my names sindhu and went\n"
     ]
    }
   ],
   "source": [
    "# 5. Write a Python Program to Remove Punctuation From a String?\n",
    "\n",
    "punctuations = '''!()-[]{};:'\"\\,<>./?@#$%^&*_~'''\n",
    "a=input(\"Enter input: \")\n",
    "result=\"\"\n",
    "for i in a:\n",
    "    if i not in punctuations:\n",
    "        result+=i\n",
    "print(result)\n"
   ]
  }
 ],
 "metadata": {
  "kernelspec": {
   "display_name": "Python 3 (ipykernel)",
   "language": "python",
   "name": "python3"
  },
  "language_info": {
   "codemirror_mode": {
    "name": "ipython",
    "version": 3
   },
   "file_extension": ".py",
   "mimetype": "text/x-python",
   "name": "python",
   "nbconvert_exporter": "python",
   "pygments_lexer": "ipython3",
   "version": "3.9.12"
  }
 },
 "nbformat": 4,
 "nbformat_minor": 5
}
