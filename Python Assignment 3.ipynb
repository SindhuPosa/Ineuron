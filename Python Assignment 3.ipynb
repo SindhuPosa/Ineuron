{
 "cells": [
  {
   "cell_type": "markdown",
   "id": "9679d235",
   "metadata": {},
   "source": [
    "### 1. Why are functions advantageous to have in your programs?\n",
    "\n",
    "Answer:\n",
    "\n",
    "Functions reduce the need for duplicate code. This makes programs shorter, easier to read, and easier to update."
   ]
  },
  {
   "cell_type": "markdown",
   "id": "72312de6",
   "metadata": {},
   "source": [
    "### 2. When does the code in a function run: when it's specified or when it's called?\n",
    "\n",
    "Answer:\n",
    "\n",
    "The code in a function runs when the function is called, not when the function is defined."
   ]
  },
  {
   "cell_type": "markdown",
   "id": "3590bbf6",
   "metadata": {},
   "source": [
    "### 3. What statement creates a function?\n",
    "\n",
    "Answer:\n",
    "\n",
    "The def statement creates a function."
   ]
  },
  {
   "cell_type": "markdown",
   "id": "eb921176",
   "metadata": {},
   "source": [
    "### 4. What is the difference between a function and a function call?Answer:\n",
    "\n",
    "Answer:\n",
    "\n",
    "A function consists of the def statement and the code in its def clause.\n",
    "\n",
    "A function call is what moves the program execution into the function, and the function call evaluates to the function’s return value."
   ]
  },
  {
   "cell_type": "markdown",
   "id": "e55fdb25",
   "metadata": {},
   "source": [
    "### 5. How many global scopes are there in a Python program? How many local scopes?\n",
    "\n",
    "Answer:\n",
    "\n",
    "There is one global scope, and a local scope is created whenever a function is called."
   ]
  },
  {
   "cell_type": "markdown",
   "id": "fc97ed39",
   "metadata": {},
   "source": [
    "### 6. What happens to variables in a local scope when the function call returns?\n",
    "\n",
    "Answer:\n",
    "\n",
    "When a function returns, the local scope is destroyed, and all the variables in it are forgotten."
   ]
  },
  {
   "cell_type": "markdown",
   "id": "ff76b3a4",
   "metadata": {},
   "source": [
    "### 7. What is the concept of a return value? Is it possible to have a return value in an expression?\n",
    "\n",
    "Answer:\n",
    "    \n",
    "A return value is the value that a function call evaluates to. Yes, a return value can be used as part of an expression."
   ]
  },
  {
   "cell_type": "markdown",
   "id": "10f9cec2",
   "metadata": {},
   "source": [
    "### 8. If a function does not have a return statement, what is the return value of a call to that function?\n",
    "\n",
    "Answer:\n",
    "\n",
    "If function does not have a  return statement, its return value is None."
   ]
  },
  {
   "cell_type": "markdown",
   "id": "977112cf",
   "metadata": {},
   "source": [
    "### 9. How do you make a function variable refer to the global variable?\n",
    "\n",
    "Answer:\n",
    "\n",
    "A global statement will force a variable in a function to refer to the global variable."
   ]
  },
  {
   "cell_type": "markdown",
   "id": "f8bb73af",
   "metadata": {},
   "source": [
    "### 10. What is the data type of None?\n",
    "\n",
    "Answer:\n",
    "    \n",
    "The data type of None is NoneType."
   ]
  },
  {
   "cell_type": "markdown",
   "id": "482f3754",
   "metadata": {},
   "source": [
    "### 11. What does the sentence import areallyourpetsnamederic do?\n",
    "\n",
    "Answer:\n",
    "    \n",
    "That import statement imports a module named areallyourpetsnamederic."
   ]
  },
  {
   "cell_type": "markdown",
   "id": "27cf278b",
   "metadata": {},
   "source": [
    "### 12. If you had a bacon() feature in a spam module, what would you call it after importing spam?\n",
    "\n",
    "Answer:\n",
    "\n",
    "This function can be called with spam.bacon().\n"
   ]
  },
  {
   "cell_type": "markdown",
   "id": "fa2af763",
   "metadata": {},
   "source": [
    "### 13. What can you do to save a programme from crashing if it encounters an error?\n",
    "\n",
    "Answer:\n",
    "\n",
    "Place the line of code that might cause an error in a try clause."
   ]
  },
  {
   "cell_type": "markdown",
   "id": "003071dc",
   "metadata": {},
   "source": [
    "### 14. What is the purpose of the try clause? What is the purpose of the except clause?\n",
    "\n",
    "Answer:\n",
    "\n",
    "The code that could cause an error goes in the try clause.\n",
    "\n",
    "The code that executes if an error happens goes in the except clause."
   ]
  }
 ],
 "metadata": {
  "kernelspec": {
   "display_name": "Python 3 (ipykernel)",
   "language": "python",
   "name": "python3"
  },
  "language_info": {
   "codemirror_mode": {
    "name": "ipython",
    "version": 3
   },
   "file_extension": ".py",
   "mimetype": "text/x-python",
   "name": "python",
   "nbconvert_exporter": "python",
   "pygments_lexer": "ipython3",
   "version": "3.9.12"
  }
 },
 "nbformat": 4,
 "nbformat_minor": 5
}
