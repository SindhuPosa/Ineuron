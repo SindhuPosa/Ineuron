{
 "cells": [
  {
   "cell_type": "markdown",
   "id": "962bb23c",
   "metadata": {},
   "source": [
    "### 1. Describe three applications for exception processing.\n",
    "\n",
    "Answer:\n",
    "\n",
    "Exception Processing is important to find exceptions that causes the runtime error. As runtime errors Halt the program execution when exception occurs.\n",
    "\n",
    "Exception Processing is used in Various Applications of which few examples are:\n",
    "\n",
    "a. Checking Appropriate use of input in an application\n",
    "b. Checking for Arithmetic exceptions in mathematical executions\n",
    "c. Checking File I/O exceptions during File handling\n"
   ]
  },
  {
   "cell_type": "markdown",
   "id": "b4bee468",
   "metadata": {},
   "source": [
    "### 2. What happens if you don't do something extra to treat an exception?\n",
    "\n",
    "Answer:\n",
    "\n",
    "If Exceptions are not handled then flow of program will be broken during the run time which might lead to a abnormal termination of the program. Inshort inability of program to handle exceptions will result in crashing of program."
   ]
  },
  {
   "cell_type": "markdown",
   "id": "29a8e46d",
   "metadata": {},
   "source": [
    "### 3.What are your options for recovering from an exception in your script?\n",
    "\n",
    "Answer:\n",
    "\n",
    "Python provides try and except statements for recovering from an exception in your script."
   ]
  },
  {
   "cell_type": "markdown",
   "id": "1a079577",
   "metadata": {},
   "source": [
    "### 4.Describe two methods for triggering exceptions in your script ?\n",
    "\n",
    "Answer:\n",
    "\n",
    "raise and assert are two methods that can be used to trigger manual exceptions in your script.\n",
    "\n",
    "raise method triggers an exception if condition provided to it turns out to be True.\n",
    "assert will let the program to continue execution if condition provided to it turns out to be True else exception will be raised"
   ]
  },
  {
   "cell_type": "markdown",
   "id": "d073e20c",
   "metadata": {},
   "source": [
    "### 5.Identify two methods for specifying actions to be executed at termination time, regardless of whether or not an exception exists.\n",
    "\n",
    "Answer:\n",
    "\n",
    "Python Provides else and finally blocks for specifying actions to be executed at termination time, regardless of whether an exceptions exists or not."
   ]
  }
 ],
 "metadata": {
  "kernelspec": {
   "display_name": "Python 3 (ipykernel)",
   "language": "python",
   "name": "python3"
  },
  "language_info": {
   "codemirror_mode": {
    "name": "ipython",
    "version": 3
   },
   "file_extension": ".py",
   "mimetype": "text/x-python",
   "name": "python",
   "nbconvert_exporter": "python",
   "pygments_lexer": "ipython3",
   "version": "3.9.12"
  }
 },
 "nbformat": 4,
 "nbformat_minor": 5
}
