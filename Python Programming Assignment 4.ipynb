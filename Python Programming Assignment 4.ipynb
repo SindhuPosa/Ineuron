{
 "cells": [
  {
   "cell_type": "code",
   "execution_count": 6,
   "id": "d9a8b161",
   "metadata": {},
   "outputs": [
    {
     "name": "stdout",
     "output_type": "stream",
     "text": [
      "Enter the number 3\n",
      "Factorial of the number entered is 6\n"
     ]
    }
   ],
   "source": [
    "# 1. Write a Python Program to Find the Factorial of a Number?\n",
    "\n",
    "num=int(input(\"Enter the number \"))\n",
    "fact=1\n",
    "if num<0:\n",
    "    print(\"Factorial does not exist for negative numbers\")\n",
    "elif num==0:\n",
    "    print(\"Factorial of 0 is 1\")\n",
    "else:\n",
    "    for i in range(1,num+1):\n",
    "        fact=fact*i\n",
    "    print(f\"Factorial of the number entered is {fact}\")\n"
   ]
  },
  {
   "cell_type": "code",
   "execution_count": 12,
   "id": "58ad7408",
   "metadata": {},
   "outputs": [
    {
     "name": "stdout",
     "output_type": "stream",
     "text": [
      "Enter the number 10\n",
      "Multiplication table of 10 is\n",
      "10 X 1 = 10\n",
      "10 X 2 = 20\n",
      "10 X 3 = 30\n",
      "10 X 4 = 40\n",
      "10 X 5 = 50\n",
      "10 X 6 = 60\n",
      "10 X 7 = 70\n",
      "10 X 8 = 80\n",
      "10 X 9 = 90\n",
      "10 X 10 = 100\n"
     ]
    }
   ],
   "source": [
    "# 2. Write a Python Program to Display the multiplication Table?\n",
    "num=int(input(\"Enter the number \"))\n",
    "print(f\"Multiplication table of {num} is\")\n",
    "for i in range(1,num+1):\n",
    "    print(f\"{num} X {i} = {num*i}\")\n",
    "    "
   ]
  },
  {
   "cell_type": "code",
   "execution_count": 22,
   "id": "8c5d084e",
   "metadata": {},
   "outputs": [
    {
     "name": "stdout",
     "output_type": "stream",
     "text": [
      "Enter the number 7\n",
      "Fibonacci Sequence is 13\n"
     ]
    }
   ],
   "source": [
    "# 3. Write a Python Program to Print the Fibonacci sequence?\n",
    "n=int(input(\"Enter the number \"))\n",
    "a=0\n",
    "b=1\n",
    "if n<0:\n",
    "    print(\"Incorrect input\")\n",
    "elif n==0:\n",
    "    print(\"0\")\n",
    "elif n==1:\n",
    "    print(b)\n",
    "else:\n",
    "    for i in range(1,n):\n",
    "        c=a+b\n",
    "        a=b\n",
    "        b=c\n",
    "    print(f\"Fibonacci Sequence is {b}\")\n",
    "    "
   ]
  },
  {
   "cell_type": "code",
   "execution_count": 28,
   "id": "5c0fb2c5",
   "metadata": {},
   "outputs": [
    {
     "name": "stdout",
     "output_type": "stream",
     "text": [
      "Enter a number: 407\n",
      "Entered number is Amstrong Number\n"
     ]
    }
   ],
   "source": [
    "# 4. Write a Python Program to Check Armstrong Number?\n",
    "#sum of cubes of each digit is equal to the number itself\n",
    "num=int(input(\"Enter a number: \"))\n",
    "sum=0\n",
    "temp=num\n",
    "while(temp>0):\n",
    "    a=temp%10\n",
    "    sum+=a**3\n",
    "    temp=temp//10\n",
    "if(sum==num):\n",
    "    print(\"Entered number is Amstrong Number\")\n",
    "else:\n",
    "    print(\"Entered number is not an Amstrong Number\")"
   ]
  },
  {
   "cell_type": "code",
   "execution_count": 36,
   "id": "a9250dc7",
   "metadata": {},
   "outputs": [
    {
     "name": "stdout",
     "output_type": "stream",
     "text": [
      "Enter the starting number 100\n",
      "Enter the ending number 3000\n",
      "153\n",
      "370\n",
      "371\n",
      "407\n",
      "1634\n"
     ]
    }
   ],
   "source": [
    "# 5. Write a Python Program to Find Armstrong Number in an Interval?\n",
    "num1=int(input(\"Enter the starting number \"))\n",
    "num2=int(input(\"Enter the ending number \"))\n",
    "\n",
    "for i in range(num1,num2):\n",
    "    sum=0\n",
    "    temp=i\n",
    "    order = len(str(i))\n",
    "    while(temp>0):\n",
    "        a=temp%10\n",
    "        sum+=a**order\n",
    "        temp=temp//10\n",
    "    if(sum==i):\n",
    "        print(i)\n",
    "    \n",
    "        "
   ]
  },
  {
   "cell_type": "code",
   "execution_count": 39,
   "id": "daebfa8e",
   "metadata": {},
   "outputs": [
    {
     "name": "stdout",
     "output_type": "stream",
     "text": [
      "Enter number 16\n",
      "Sum of Natural Numbers is 136\n"
     ]
    }
   ],
   "source": [
    "# 6. Write a Python Program to Find the Sum of Natural Numbers?\n",
    "num=int(input(\"Enter number \"))\n",
    "if num<0:\n",
    "    print(\"Enter positive number\")\n",
    "else:\n",
    "    sum=(num*(num+1))//2\n",
    "print(f\"Sum of Natural Numbers is {sum}\")\n"
   ]
  }
 ],
 "metadata": {
  "kernelspec": {
   "display_name": "Python 3 (ipykernel)",
   "language": "python",
   "name": "python3"
  },
  "language_info": {
   "codemirror_mode": {
    "name": "ipython",
    "version": 3
   },
   "file_extension": ".py",
   "mimetype": "text/x-python",
   "name": "python",
   "nbconvert_exporter": "python",
   "pygments_lexer": "ipython3",
   "version": "3.9.12"
  }
 },
 "nbformat": 4,
 "nbformat_minor": 5
}
