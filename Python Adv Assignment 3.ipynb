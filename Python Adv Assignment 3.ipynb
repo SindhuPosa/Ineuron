{
 "cells": [
  {
   "cell_type": "markdown",
   "id": "e3baa643",
   "metadata": {},
   "source": [
    "### 1. What is the concept of an abstract superclass?\n",
    "\n",
    "Answer:\n",
    "\n",
    "A class is called an Abstract class if it contains one or more abstract methods. An abstract method is a method that is declared, but contains no implementation. Abstract classes may not be instantiated, and its abstract methods must be implemented by its subclasses."
   ]
  },
  {
   "cell_type": "markdown",
   "id": "43604031",
   "metadata": {},
   "source": [
    "### 2.What happens when a class statement's top level contains a basic assignment statement?\n",
    "\n",
    "Answer:\n",
    "\n",
    "When a Class statement's top level contains a basic assignment statement, its usually treated as a class attribute or class level variable.\n",
    "\n",
    "where as assignment statements inside methods are treated as instance attributes or local attributes.\n",
    "\n",
    "When an instance of a class is created a single copy of class attributes is maintained and shared to all instances of class. where as each instance object maintains its own copy of instance variables."
   ]
  },
  {
   "cell_type": "markdown",
   "id": "af3f9e67",
   "metadata": {},
   "source": [
    "### 3. Why does a class need to manually call a superclass's init method?\n",
    "\n",
    "Answer:\n",
    "\n",
    "if a child class has __init__ method, then it will not inherit the __init__ method of the parent class. in other words the __init__ method of the child class overrides the __init__ method of the parent class. so we have to manually call a parent superclass's __init__ using super() method"
   ]
  },
  {
   "cell_type": "markdown",
   "id": "5d7a516d",
   "metadata": {},
   "source": [
    "### 4. How can you augment, instead of completely replacing, an inherited method?\n",
    "\n",
    "Answer:\n",
    "\n",
    "super() method can be used to augment, instead of completely replacing, an inherited method."
   ]
  },
  {
   "cell_type": "markdown",
   "id": "02bbd4ce",
   "metadata": {},
   "source": [
    "### 5. How is the local scope of a class different from that of a function?\n",
    "\n",
    "Answer:\n",
    "\n",
    "A Variable which is defined inside a function is local to that function. it is accesible from the point at which it is defined until the end of the function, and exists for as long as the function is existing.\n",
    "\n",
    "Similary a variable inside of a class also has a local variable scope. Variables which are defined in the class body (but outside all methods) are called as class level variables or class attributes. they can be referenced by there bare names within the same scope, but they can also be accessed from outside this scope if we use the attribute access operator (.). on a class or an instance of the class."
   ]
  }
 ],
 "metadata": {
  "kernelspec": {
   "display_name": "Python 3 (ipykernel)",
   "language": "python",
   "name": "python3"
  },
  "language_info": {
   "codemirror_mode": {
    "name": "ipython",
    "version": 3
   },
   "file_extension": ".py",
   "mimetype": "text/x-python",
   "name": "python",
   "nbconvert_exporter": "python",
   "pygments_lexer": "ipython3",
   "version": "3.9.12"
  }
 },
 "nbformat": 4,
 "nbformat_minor": 5
}
