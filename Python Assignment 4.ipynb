{
 "cells": [
  {
   "cell_type": "markdown",
   "id": "19b1f4c7",
   "metadata": {},
   "source": [
    "### 1. What exactly is []?\n",
    "\n",
    "Answer: \n",
    "\n",
    "The empty list value, which is a list value that contains no items. This is similar to how '' is the empty string               value.\n",
    "\n"
   ]
  },
  {
   "cell_type": "markdown",
   "id": "e419d21c",
   "metadata": {},
   "source": [
    "### 2. In a list of values stored in a variable called spam, how would you assign the value 'hello' as the third value? (Assume [2, 4, 6, 8, 10] are in spam.)\n",
    "\n",
    "Answer:\n",
    "\n",
    "spam[2] = 'hello'\n",
    "\n",
    "Let's pretend the spam includes the list ['a', 'b', 'c', 'd'] for the next three queries."
   ]
  },
  {
   "cell_type": "markdown",
   "id": "9e69af78",
   "metadata": {},
   "source": [
    "### 3. What is the value of spam[int(int('3' * 2) / 11)]?\n",
    "\n",
    "Answer: 'd' "
   ]
  },
  {
   "cell_type": "markdown",
   "id": "e7da7d7b",
   "metadata": {},
   "source": [
    "### 4. What is the value of spam[-1]?\n",
    "\n",
    "Answer: 'd'"
   ]
  },
  {
   "cell_type": "markdown",
   "id": "d9532b52",
   "metadata": {},
   "source": [
    "### 5. What is the value of spam[:2]? \n",
    "\n",
    "Answer: ['a', 'b']\n",
    "\n",
    "Let's pretend bacon has the list [3.14, 'cat,' 11, 'cat,' True] for the next three questions."
   ]
  },
  {
   "cell_type": "markdown",
   "id": "059c937d",
   "metadata": {},
   "source": [
    "### 6. What is the value of bacon.index('cat')?\n",
    "\n",
    "Answer: 1"
   ]
  },
  {
   "cell_type": "markdown",
   "id": "0ecc1ca5",
   "metadata": {},
   "source": [
    "### 7. How does bacon.append(99) change the look of the list value in bacon?\n",
    "\n",
    "Answer: [3.14, 'cat', 11, 'cat', True, 99]"
   ]
  },
  {
   "cell_type": "markdown",
   "id": "6eee581f",
   "metadata": {},
   "source": [
    "### 8. How does bacon.remove('cat') change the look of the list in bacon?\n",
    "\n",
    "Answer: [3.14, 11, 'cat', True]"
   ]
  },
  {
   "cell_type": "markdown",
   "id": "2b74b611",
   "metadata": {},
   "source": [
    "### 9. What are the list concatenation and list replication operators?\n",
    "\n",
    "Answer:\n",
    "\n",
    "The operator for list concatenation is +, while the operator for replication is *."
   ]
  },
  {
   "cell_type": "markdown",
   "id": "f62b0d9d",
   "metadata": {},
   "source": [
    "### 10. What is difference between the list methods append() and insert()?\n",
    "\n",
    "Answer: \n",
    "\n",
    "append() will add values only to the end of a list, insert() can add them anywhere in the list."
   ]
  },
  {
   "cell_type": "markdown",
   "id": "07a32670",
   "metadata": {},
   "source": [
    "### 11. What are the two methods for removing items from a list?\n",
    "\n",
    "Answer: \n",
    "\n",
    "The del statement and the remove() list method are two ways to remove values from a list."
   ]
  },
  {
   "cell_type": "markdown",
   "id": "63e9a321",
   "metadata": {},
   "source": [
    "### 12. Describe how list values and string values are identical.\n",
    "\n",
    "Answer:\n",
    "\n",
    "* Both lists and strings can be passed to len(), \n",
    "* Both have indexes and slices, be used in for loops, \n",
    "* Both list and string values be concatenated or replicated, and be used with the in and not in operators."
   ]
  },
  {
   "cell_type": "markdown",
   "id": "6cdc1e25",
   "metadata": {},
   "source": [
    "### 13. What's the difference between tuples and lists?\n",
    "\n",
    "Answer:\n",
    "\n",
    "* Lists are mutable,they can have values added, removed, or changed. \n",
    "* Tuples are immutable, they cannot be changed at all. \n",
    "  Also, tuples are written using parentheses, ( and ), while lists use the   square brackets, [ and ].\n",
    "* List is dynamic, whereas the tuple has static characteristics.\n",
    "* Lists have variable sizes and tuples have fixed sizes.\n"
   ]
  }
 ],
 "metadata": {
  "kernelspec": {
   "display_name": "Python 3 (ipykernel)",
   "language": "python",
   "name": "python3"
  },
  "language_info": {
   "codemirror_mode": {
    "name": "ipython",
    "version": 3
   },
   "file_extension": ".py",
   "mimetype": "text/x-python",
   "name": "python",
   "nbconvert_exporter": "python",
   "pygments_lexer": "ipython3",
   "version": "3.9.12"
  }
 },
 "nbformat": 4,
 "nbformat_minor": 5
}
