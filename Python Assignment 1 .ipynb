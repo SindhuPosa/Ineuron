{
 "cells": [
  {
   "cell_type": "markdown",
   "id": "b9497013",
   "metadata": {},
   "source": [
    "1. In the below elements which of them are values or an expression? eg:- values can be integer or string and expressions will be mathematical operators.\n",
    "*\n",
    "'hello'\n",
    "-87.8\n",
    "-\n",
    "/\n",
    "+\n",
    "6\n",
    "\n",
    "Answer:\n",
    " * is mathematical operator\n",
    "'hello' is string\n",
    "-87.8 is float\n",
    "- is mathematical operator\n",
    "/ is mathematical operator\n",
    "+ is mathematical operator\n",
    "6 is integer\n"
   ]
  },
  {
   "cell_type": "markdown",
   "id": "382bf50b",
   "metadata": {},
   "source": [
    "2. What is the difference between string and variable?\n",
    "Answer:\n",
    "Variable is used to store the data.\n",
    "String is a type of variable.It is a list of characters.Strings are sequences of character data.\n"
   ]
  },
  {
   "cell_type": "markdown",
   "id": "1527ae2f",
   "metadata": {},
   "source": [
    "3. Describe three different data types.\n",
    "Answer:\n",
    "Integers – This value is represented by int class. It contains positive or negative whole numbers.\n",
    "Float    - It represents the floating point number. Float is used to represent real numbers and is written with a decimal point dividing the integer and fractional parts.\n",
    "Complex numbers- These are specified as <real part>+<imaginary part>j"
   ]
  },
  {
   "cell_type": "markdown",
   "id": "b9b5b58e",
   "metadata": {},
   "source": [
    "4. What is an expression made up of? What do all expressions do?\n",
    "Answer:\n",
    "An Expression is a combination of operators and operands that is interpreted to produce some other value.An expression is evaluated as per the precedence of its operators."
   ]
  },
  {
   "cell_type": "markdown",
   "id": "7a0b39cf",
   "metadata": {},
   "source": [
    "5. This assignment statements, like spam = 10. What is the difference between an expression and a statement?\n",
    "Answer:\n",
    "Expression is a combination of variables, operations and values that yields a result value.\n",
    "A Statement is a action or a command that does something. Ex: If-Else,Loops..etc"
   ]
  },
  {
   "cell_type": "markdown",
   "id": "52542682",
   "metadata": {},
   "source": [
    "6. After running the following code, what does the variable bacon contain?\n",
    "bacon = 22\n",
    "bacon + 1\n",
    "Answer: 23"
   ]
  },
  {
   "cell_type": "markdown",
   "id": "e0207e68",
   "metadata": {},
   "source": [
    "7. What should the values of the following two terms be?\n",
    "'spam'+'spamspam'\n",
    "'spam'* 3\n",
    "Answer:\n",
    "'spamspamspam'\n",
    "'spamspamspam'"
   ]
  },
  {
   "cell_type": "markdown",
   "id": "eeaa574c",
   "metadata": {},
   "source": [
    "8. Why is eggs a valid variable name while 100 is invalid?\n",
    "Answer: Variable names cannot begin with a number.\n"
   ]
  },
  {
   "cell_type": "markdown",
   "id": "d29b9767",
   "metadata": {},
   "source": [
    "9. What three functions can be used to get the integer, floating-point number, or string version of a value?\n",
    "Answer: The int(),float(),and str() functions will evaluate to the integer, floating-point number, and string versions of the value passed to them."
   ]
  },
  {
   "cell_type": "markdown",
   "id": "79bd8394",
   "metadata": {},
   "source": [
    "10. Why does this expression cause an error? How can you fix it?\n",
    "'I have eaten'+99+'burritos.'\n",
    "Answer: Because only stringscan be cocatenated. As 99 is integer it is causing error.99 should be converted to string.\n",
    "'I have eaten'+' 99 '+'burritos.'"
   ]
  }
 ],
 "metadata": {
  "kernelspec": {
   "display_name": "Python 3 (ipykernel)",
   "language": "python",
   "name": "python3"
  },
  "language_info": {
   "codemirror_mode": {
    "name": "ipython",
    "version": 3
   },
   "file_extension": ".py",
   "mimetype": "text/x-python",
   "name": "python",
   "nbconvert_exporter": "python",
   "pygments_lexer": "ipython3",
   "version": "3.9.12"
  }
 },
 "nbformat": 4,
 "nbformat_minor": 5
}
