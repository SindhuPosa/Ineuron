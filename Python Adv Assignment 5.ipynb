{
 "cells": [
  {
   "cell_type": "markdown",
   "id": "985dd69b",
   "metadata": {},
   "source": [
    "### 1. What is the meaning of multiple inheritance?\n",
    "\n",
    "Answer:\n",
    "\n",
    "When a class is derived from more than one base class it is called multiple Inheritance. The derived class inherits all the features of the base class. "
   ]
  },
  {
   "cell_type": "code",
   "execution_count": null,
   "id": "a52724c8",
   "metadata": {},
   "outputs": [],
   "source": [
    "class Parent1:\n",
    "    pass\n",
    "class Parent2:\n",
    "    pass\n",
    "class child(Parent1,Parent2):\n",
    "    pass"
   ]
  },
  {
   "cell_type": "markdown",
   "id": "1a117b32",
   "metadata": {},
   "source": [
    "### 2.What is the concept of delegation?\n",
    "\n",
    "Answer:\n",
    "\n",
    "Delegation is an object oriented technique (also called a design pattern). Let's say you have an object x and want to change the behaviour of just one of its methods. You can create a new class that provides a new implementation of the method you're interested in changing and delegates all other methods to the corresponding method of x.\n",
    "\n",
    "it Wraps the object of main class into a smaller object with limited access"
   ]
  },
  {
   "cell_type": "markdown",
   "id": "a5da83e0",
   "metadata": {},
   "source": [
    "### 3.What is the concept of composition?\n",
    "\n",
    "Answer:\n",
    "\n",
    "In the concept of Composition, a class refers to one or more other classes by using instances of those classes as a instance variable. irrespective of inheritence in this approach all the parent class members are not inherited into child class, but only required methods from a class are used by using class instances."
   ]
  },
  {
   "cell_type": "markdown",
   "id": "9777bea3",
   "metadata": {},
   "source": [
    "### 4.What are bound methods and how do we use them?\n",
    "\n",
    "Answer:\n",
    "\n",
    "If a function is an attribute of class and it is accessed via the instances, they are called bound methods. A bound method is one that has self as its first argument. Since these are dependent on the instance of classes, these are also known as instance methods."
   ]
  },
  {
   "cell_type": "markdown",
   "id": "3c0a0620",
   "metadata": {},
   "source": [
    "### 5. What is the purpose of pseudoprivate attributes?\n",
    "\n",
    "Answer:\n",
    "\n",
    "Pseudoprivate attributes are also useful in larger frameworks or tools, both to avoid introducing new method names that might accidentally hide definitions elsewhere in the class tree and to reduce the chance of internal methods being replaced by names defined lower in the tree. If a method is intended for use only within a class that may be mixed into other classes, the double underscore prefix ensures that the method won't interfere with other names in the tree, especially in multiple-inheritance scenarios"
   ]
  }
 ],
 "metadata": {
  "kernelspec": {
   "display_name": "Python 3 (ipykernel)",
   "language": "python",
   "name": "python3"
  },
  "language_info": {
   "codemirror_mode": {
    "name": "ipython",
    "version": 3
   },
   "file_extension": ".py",
   "mimetype": "text/x-python",
   "name": "python",
   "nbconvert_exporter": "python",
   "pygments_lexer": "ipython3",
   "version": "3.9.12"
  }
 },
 "nbformat": 4,
 "nbformat_minor": 5
}
